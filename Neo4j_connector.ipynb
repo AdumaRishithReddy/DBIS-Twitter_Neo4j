{
 "cells": [
  {
   "cell_type": "code",
   "execution_count": 1,
   "id": "a0557685",
   "metadata": {},
   "outputs": [
    {
     "name": "stdout",
     "output_type": "stream",
     "text": [
      "Collecting neo4j\n",
      "  Downloading neo4j-5.13.0.tar.gz (192 kB)\n",
      "     ---------------------------------------- 0.0/192.3 kB ? eta -:--:--\n",
      "     -------------- ------------------------ 71.7/192.3 kB 1.9 MB/s eta 0:00:01\n",
      "     ---------------------------- --------- 143.4/192.3 kB 1.4 MB/s eta 0:00:01\n",
      "     -------------------------------------- 192.3/192.3 kB 1.9 MB/s eta 0:00:00\n",
      "  Installing build dependencies: started\n",
      "  Installing build dependencies: finished with status 'done'\n",
      "  Getting requirements to build wheel: started\n",
      "  Getting requirements to build wheel: finished with status 'done'\n",
      "  Installing backend dependencies: started\n",
      "  Installing backend dependencies: finished with status 'done'\n",
      "  Preparing metadata (pyproject.toml): started\n",
      "  Preparing metadata (pyproject.toml): finished with status 'done'\n",
      "Requirement already satisfied: pytz in c:\\users\\rishi\\miniconda3\\envs\\tf\\lib\\site-packages (from neo4j) (2022.7)\n",
      "Building wheels for collected packages: neo4j\n",
      "  Building wheel for neo4j (pyproject.toml): started\n",
      "  Building wheel for neo4j (pyproject.toml): finished with status 'done'\n",
      "  Created wheel for neo4j: filename=neo4j-5.13.0-py3-none-any.whl size=265336 sha256=8f5ca3808e484a5506bfbc0027e582912e15664ab41c390a2d0492abf56cb82c\n",
      "  Stored in directory: c:\\users\\rishi\\appdata\\local\\pip\\cache\\wheels\\17\\cd\\5f\\ad5ba78a08c37fe8bf2a407d27d10ba1a140d4c706f565d54d\n",
      "Successfully built neo4j\n",
      "Installing collected packages: neo4j\n",
      "Successfully installed neo4j-5.13.0\n"
     ]
    }
   ],
   "source": [
    "!pip install neo4j"
   ]
  },
  {
   "cell_type": "code",
   "execution_count": 4,
   "id": "609bd5b5",
   "metadata": {},
   "outputs": [],
   "source": [
    "from neo4j import GraphDatabase"
   ]
  },
  {
   "cell_type": "code",
   "execution_count": 45,
   "id": "c4481848",
   "metadata": {
    "scrolled": true
   },
   "outputs": [],
   "source": [
    "from neo4j import GraphDatabase\n",
    "\n",
    "class HelloWorldExample:\n",
    "\n",
    "    def __init__(self, uri, user, password):\n",
    "        self.driver = GraphDatabase.driver(uri, auth=(user, password))\n",
    "        self.uri = uri\n",
    "        self.user = user\n",
    "        self.password = password\n",
    "\n",
    "    def close(self):\n",
    "        self.driver.close()\n",
    "\n",
    "    def print_greeting(self, message, create=True):\n",
    "        with self.driver.session() as session:\n",
    "            if create:\n",
    "                greeting = session.write_transaction(self._create_and_return_greeting, message)\n",
    "            else:\n",
    "                greeting = session.write_transaction(self._match_and_return_greeting, message)\n",
    "            print(greeting)\n",
    "    def create_rel(self):\n",
    "        with self.driver.session() as session:\n",
    "            session.write_transaction(self._create_and_return_relations)\n",
    "    def create_follow(self):\n",
    "        with self.driver.session() as session:\n",
    "            session.write_transaction(self._create_follow)\n",
    "\n",
    "    def get_all_posts(self):\n",
    "        with self.driver.session() as session:\n",
    "            result = session.run(\"MATCH (p:Post) RETURN p\")\n",
    "            return [record['p'] for record in result]\n",
    "\n",
    "    def get_all_users(self):\n",
    "        with self.driver.session() as session:\n",
    "            result = session.run(\"MATCH (u:User) RETURN u\")\n",
    "            return [record['u'] for record in result\n",
    "                    \n",
    "    def\n",
    "\n",
    "    def _create_and_return_greeting(self, tx, message):\n",
    "        result = tx.run(\"CREATE (a:Greeting) \"\n",
    "                        \"SET a.message = $message \"\n",
    "                        \"RETURN a.message + ', from node ' + id(a)\", message=message)\n",
    "        return result.single()[0]\n",
    "\n",
    "    def _create_and_return_relations(self, tx):\n",
    "        posts = self.get_all_posts()\n",
    "        users = self.get_all_users()\n",
    "        print(posts)\n",
    "        for i in posts:\n",
    "            k = random.choice(users)\n",
    "            print(k['name'],i['postid'])\n",
    "            result=tx.run(\"MATCH (n:User {name: $name}), (m:Post {postid: $postid}) \"\n",
    "                   \"CREATE (n)-[:POSTED]->(m)\", name=k['name'], postid=i['postid'])\n",
    "        return\n",
    "\n",
    "    @staticmethod\n",
    "    def _match_and_return_greeting(self, tx, message):\n",
    "        result = tx.run(\"MATCH (a:User) \"\n",
    "                        \"RETURN a.name\", message=message)\n",
    "        return result.single()[0]\n",
    "\n",
    "if __name__ == \"__main__\":\n",
    "    greeter = HelloWorldExample(\"bolt://localhost:7687\", \"neo4j\", \"cypher@123\")\n",
    "    # greeter.print_greeting(\"hello, world\", create=True)  # Call the _create_and_return_greeting method\n",
    "#     greeter.print_greeting(\"hello, world\", create=False)  # Call the _match_and_return_greeting method\n",
    "#     greeter.create_rel()\n",
    "    greeter.close()\n",
    "#     x contains persond y contains posts"
   ]
  },
  {
   "cell_type": "code",
   "execution_count": 33,
   "id": "0813aed1",
   "metadata": {},
   "outputs": [
    {
     "data": {
      "text/plain": [
       "3"
      ]
     },
     "execution_count": 33,
     "metadata": {},
     "output_type": "execute_result"
    }
   ],
   "source": [
    "import random\n",
    "chosenOne = random.choice([1,2,3,4])\n",
    "chosenOne"
   ]
  },
  {
   "cell_type": "code",
   "execution_count": null,
   "id": "c7168a74",
   "metadata": {},
   "outputs": [],
   "source": []
  }
 ],
 "metadata": {
  "kernelspec": {
   "display_name": "Python 3 (ipykernel)",
   "language": "python",
   "name": "python3"
  },
  "language_info": {
   "codemirror_mode": {
    "name": "ipython",
    "version": 3
   },
   "file_extension": ".py",
   "mimetype": "text/x-python",
   "name": "python",
   "nbconvert_exporter": "python",
   "pygments_lexer": "ipython3",
   "version": "3.9.16"
  }
 },
 "nbformat": 4,
 "nbformat_minor": 5
}
